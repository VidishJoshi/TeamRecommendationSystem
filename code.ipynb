{
 "metadata": {
  "language_info": {
   "codemirror_mode": {
    "name": "ipython",
    "version": 3
   },
   "file_extension": ".py",
   "mimetype": "text/x-python",
   "name": "python",
   "nbconvert_exporter": "python",
   "pygments_lexer": "ipython3",
   "version": "3.7.5-final"
  },
  "orig_nbformat": 2,
  "kernelspec": {
   "name": "python3",
   "display_name": "Python 3.7.5 64-bit",
   "metadata": {
    "interpreter": {
     "hash": "29e15060d7e00ef5f5fcf3dcb1370e1b29be4566dbf1f2e478355de37df1c4d3"
    }
   }
  }
 },
 "nbformat": 4,
 "nbformat_minor": 2,
 "cells": [
  {
   "source": [
    "# Team Recommendation System\n",
    "\n",
    " This mini-project aims to create a team Recommendation system from a pool of candidates based on the avaialable data. The data will contain the skill level of each candidate on multiple features and the system will generate even teams consisting of these candidates."
   ],
   "cell_type": "markdown",
   "metadata": {}
  },
  {
   "source": [
    "## The Approach\n",
    "\n",
    "The solution provided from this implementation uses clustering algorithm to group similar candidates together and then form a team by picking a candidate from each of these clusters. This way all the teams formed will be balanced as the each of its members belong to a unique cluster and the number of members from each cluster is same in all of the teams.\n",
    "\n",
    "### Assumption\n",
    "\n",
    "Let the totol number of candates be $N$. The total number of team be $T$.\n",
    "Therfore, the number of members per team will be $K = \\frac{N}{T}$\n",
    "\n",
    "We assume that the number of players is perfeclty divisible by the total number of teams. In other words, it is possible to form teams of equal size from the given data."
   ],
   "cell_type": "markdown",
   "metadata": {}
  },
  {
   "source": [
    "## $K$ - means clustering algorithm\n",
    "\n",
    "To cluster our candidates we use the $K$ means clustering algorithm. Here, $K$, the number of centers in our output, is the number of members per each team.\n",
    "\n",
    "### Dataset\n",
    "\n",
    "We use the open-source [_IRIS_](https://archive.ics.uci.edu/ml/datasets/iris) dataset. This is a multivariate_(multiple features in our case)_ dataset with a 150 isntances_(candidates in our case)_ and 4 attribute_(number of multivariate attributes)_."
   ],
   "cell_type": "markdown",
   "metadata": {}
  },
  {
   "source": [
    "### Importing the libraries"
   ],
   "cell_type": "markdown",
   "metadata": {}
  },
  {
   "cell_type": "code",
   "execution_count": 642,
   "metadata": {},
   "outputs": [],
   "source": [
    "import math;\n",
    "import sys;\n",
    "from random import shuffle, uniform, choice;\n",
    "import numpy as np;\n",
    "from matplotlib import pyplot;"
   ]
  },
  {
   "source": [
    "### Reading the data from file and processing the data"
   ],
   "cell_type": "markdown",
   "metadata": {}
  },
  {
   "cell_type": "code",
   "execution_count": 643,
   "metadata": {},
   "outputs": [],
   "source": [
    "def ReadData(fileName):\n",
    "    f = open(fileName, 'r');    # declaring pointer to file\n",
    "    lines = f.read().splitlines();  #reading data from file and splitting it by new lines\n",
    "    f.close();  # closing the file pointer\n",
    "\n",
    "    items = []\n",
    "\n",
    "    for i in range(1,len(lines)):\n",
    "        line = lines[i].split(','); # split each line by \",\"\n",
    "        itemFeatures = [];\n",
    "\n",
    "        for j in range(len(line)-1):\n",
    "            v = float(line[j]); #Convert feature value to float\n",
    "            itemFeatures.append(v); #Add feature value to dict\n",
    "    \n",
    "        items.append(itemFeatures);\n",
    "\n",
    "    shuffle(items);\n",
    "\n",
    "    return items;"
   ]
  },
  {
   "source": [
    "### Auxiliary Function"
   ],
   "cell_type": "markdown",
   "metadata": {}
  },
  {
   "cell_type": "code",
   "execution_count": 644,
   "metadata": {},
   "outputs": [],
   "source": [
    "def FindColMinMax(items):\n",
    "    n = len(items[0]);\n",
    "    minima = [sys.maxsize for i in range(n)];\n",
    "    maxima = [-sys.maxsize -1 for i in range(n)];\n",
    "    \n",
    "    for item in items:\n",
    "        for f in range(len(item)):\n",
    "            if(item[f] < minima[f]):\n",
    "                minima[f] = item[f];\n",
    "            \n",
    "            if(item[f] > maxima[f]):\n",
    "                maxima[f] = item[f];\n",
    "\n",
    "    return minima,maxima;"
   ]
  },
  {
   "source": [
    "### Get Euclidean Distance between two points"
   ],
   "cell_type": "markdown",
   "metadata": {}
  },
  {
   "cell_type": "code",
   "execution_count": 645,
   "metadata": {},
   "outputs": [],
   "source": [
    "def EuclideanDistance(x,y):\n",
    "    S = 0; #The sum of the squared differences of the elements\n",
    "    for i in range(len(x)):     # through all the dimesion of x and y\n",
    "        S += math.pow(x[i]-y[i],2);\n",
    "\n",
    "    return math.sqrt(S); #The square root of the sum"
   ]
  },
  {
   "source": [
    "### Initialize Mean\n",
    "Initialize the Mean of each cluster randomly between the _min_ and _max_ of each feature(here: column)"
   ],
   "cell_type": "markdown",
   "metadata": {}
  },
  {
   "cell_type": "code",
   "execution_count": 646,
   "metadata": {},
   "outputs": [],
   "source": [
    "def InitializeMeans(items, k, cMin, cMax):\n",
    "    f = len(items[0]); #number of features\n",
    "    means = [[0 for i in range(f)] for j in range(k)];\n",
    "    \n",
    "    for mean in means:\n",
    "        for i in range(len(mean)):\n",
    "            #Set value to a random float\n",
    "            #(adding +-1 to avoid a wide placement of a mean)\n",
    "            mean[i] = uniform(cMin[i]+1,cMax[i]-1);\n",
    "\n",
    "    return means;"
   ]
  },
  {
   "source": [
    "### Update Mean\n",
    "Update the mean with each iteration"
   ],
   "cell_type": "markdown",
   "metadata": {}
  },
  {
   "cell_type": "code",
   "execution_count": 647,
   "metadata": {},
   "outputs": [],
   "source": [
    "def UpdateMean(n,mean,item):\n",
    "    for i in range(len(mean)):\n",
    "        m = mean[i];\n",
    "        m = (m*(n-1)+item[i])/float(n);\n",
    "        mean[i] = round(m,3);\n",
    "    \n",
    "    return mean;"
   ]
  },
  {
   "source": [
    "### Classify Item\n",
    "\n",
    "Given all the means and given item, we will find the cluster matching closest to the given item by calculating the Eucledean distance between each mean and the item."
   ],
   "cell_type": "markdown",
   "metadata": {}
  },
  {
   "cell_type": "code",
   "execution_count": 648,
   "metadata": {},
   "outputs": [],
   "source": [
    "def Classify(means,item):\n",
    "    #Classify item to the mean with minimum distance\n",
    "    \n",
    "    minimum = sys.maxsize;\n",
    "    index = -1;\n",
    "\n",
    "    for i in range(len(means)):\n",
    "        #Find distance from item to mean\n",
    "        dis = EuclideanDistance(item,means[i]);\n",
    "\n",
    "        if(dis < minimum):\n",
    "            minimum = dis;\n",
    "            index = i;\n",
    "    \n",
    "    return index;"
   ]
  },
  {
   "source": [
    "### Find Cluster\n",
    "\n",
    "Find suitable cluster for all the items by iterating through each one of them and classifying them into suitable cluster."
   ],
   "cell_type": "markdown",
   "metadata": {}
  },
  {
   "cell_type": "code",
   "execution_count": 649,
   "metadata": {},
   "outputs": [],
   "source": [
    "def FindClusters(means,items):\n",
    "    clusters = [[] for i in range(len(means))]; #Init clusters\n",
    "    \n",
    "    for item in items:\n",
    "        #Classify item into a cluster\n",
    "        index = Classify(means,item);\n",
    "\n",
    "        #Add item to cluster\n",
    "        clusters[index].append(item);\n",
    "\n",
    "    return clusters;"
   ]
  },
  {
   "cell_type": "code",
   "execution_count": 650,
   "metadata": {},
   "outputs": [],
   "source": [
    "def FindClustersIndex(means,items):\n",
    "    clustersIndex = [[] for i in range(len(means))]; #Init clusters\n",
    "    \n",
    "    i = 0\n",
    "    for item in items:\n",
    "        #Classify item into a cluster\n",
    "        index = Classify(means,item);\n",
    "\n",
    "        #Add item to cluster\n",
    "        clustersIndex[index].append(i);\n",
    "        i = i + 1;\n",
    "\n",
    "    return clustersIndex;"
   ]
  },
  {
   "source": [
    "### Calculate Means\n",
    "\n",
    "To get the fine-tuned _means_, iterete through all the items, find the closest cluster and update the cluster's mean.\n",
    "\n",
    "Repeat this process for fixed number of iterations. If between 2 iterations, no item changes its classification, we stop the process as we have found the optimal classification."
   ],
   "cell_type": "markdown",
   "metadata": {}
  },
  {
   "cell_type": "code",
   "execution_count": 651,
   "metadata": {},
   "outputs": [],
   "source": [
    "def CalculateMeans(k,items,maxIterations=100000):\n",
    "    #Find the minima and maxima for columns\n",
    "    cMin, cMax = FindColMinMax(items);\n",
    "    \n",
    "    #Initialize means at random points\n",
    "    means = InitializeMeans(items,k,cMin,cMax);\n",
    "    \n",
    "    #Initialize clusters, the array to hold\n",
    "    #the number of items in a class\n",
    "    clusterSizes = [0 for i in range(len(means))];\n",
    "\n",
    "    #An array to hold the cluster an item is in\n",
    "    belongsTo = [0 for i in range(len(items))];\n",
    "    \n",
    "\n",
    "    #Calculate means\n",
    "    for e in range(maxIterations):\n",
    "        #If no change of cluster occurs, halt\n",
    "        noChange = True;\n",
    "        for i in range(len(items)):\n",
    "            item = items[i];\n",
    "            #Classify item into a cluster and update the\n",
    "            #corresponding means.\n",
    "        \n",
    "            index = Classify(means,item);\n",
    "\n",
    "            clusterSizes[index] += 1;\n",
    "            means[index] = UpdateMean(clusterSizes[index],means[index],item);\n",
    "\n",
    "            #Item changed cluster\n",
    "            if(index != belongsTo[i]):\n",
    "                noChange = False;\n",
    "\n",
    "            belongsTo[i] = index;\n",
    "\n",
    "        #Nothing changed, return\n",
    "        if(noChange):\n",
    "            break;\n",
    "\n",
    "    return means;"
   ]
  },
  {
   "source": [
    "### Functions to plot the data\n",
    "\n",
    "Cut down the data into 2 dimensions so that we can plot it and percieve it easily and the plot the clusters."
   ],
   "cell_type": "markdown",
   "metadata": {}
  },
  {
   "cell_type": "code",
   "execution_count": 652,
   "metadata": {},
   "outputs": [],
   "source": [
    "def CutToTwoFeatures(items,indexA,indexB):\n",
    "    n = len(items);\n",
    "    X = [];\n",
    "    for i in range(n):\n",
    "        item = items[i];\n",
    "        newItem = [item[indexA],item[indexB]];\n",
    "        X.append(newItem);\n",
    "\n",
    "    return X;"
   ]
  },
  {
   "source": [
    "def PlotClusters(clusters):\n",
    "    n = len(clusters);\n",
    "    #Cut down the items to two dimension and store to X\n",
    "    X = [[] for i in range(n)];\n",
    "\n",
    "    for i in range(n):\n",
    "        cluster = clusters[i];\n",
    "        print(len(cluster))\n",
    "        for item in cluster:\n",
    "            X[i].append(item);\n",
    "\n",
    "    colors = ['r','b','g','c','m','y'];\n",
    "\n",
    "    for x in X:\n",
    "        #Choose color randomly from list, then remove it\n",
    "        #(to avoid duplicates)\n",
    "        c = choice(colors);\n",
    "        colors.remove(c);\n",
    "\n",
    "        Xa = [];\n",
    "        Xb = [];\n",
    "\n",
    "        for item in x:\n",
    "            Xa.append(item[0]);\n",
    "            Xb.append(item[1]);\n",
    "\n",
    "        pyplot.plot(Xa,Xb,'o',color=c);\n",
    "\n",
    "    pyplot.show();"
   ],
   "cell_type": "code",
   "metadata": {},
   "execution_count": 653,
   "outputs": []
  },
  {
   "source": [
    "## Print Teams\n",
    "\n",
    "Print the teams from the clusters generated"
   ],
   "cell_type": "markdown",
   "metadata": {}
  },
  {
   "cell_type": "code",
   "execution_count": 654,
   "metadata": {},
   "outputs": [],
   "source": [
    "def PrintTeams(clusters):\n",
    "    k = len(clusters)\n",
    "\n",
    "    n = sys.maxsize\n",
    "    for i in range(0, k):\n",
    "        n = min(n, len(clusters[i]));\n",
    "\n",
    "    teams = [];\n",
    "\n",
    "    for i in range(0, n):\n",
    "        x = [];\n",
    "        for j in range(0, k):\n",
    "            x.append(clusters[j][i])\n",
    "        teams.append(x)\n",
    "    \n",
    "    print(str(len(teams)) + \" teams created!\")\n",
    "    print(\"The indices of the candidates per team are as below: \")\n",
    "    for i in range(0, n):\n",
    "        print(teams[i]);"
   ]
  },
  {
   "source": [
    "### THe Main Function"
   ],
   "cell_type": "markdown",
   "metadata": {}
  },
  {
   "cell_type": "code",
   "execution_count": 655,
   "metadata": {},
   "outputs": [],
   "source": [
    "def main():\n",
    "    items = ReadData('data.txt');\n",
    "    items = CutToTwoFeatures(items,1, 3);\n",
    "    \n",
    "    k = 3;  #number of members per team\n",
    "    means = CalculateMeans(k,items);\n",
    "    clusters = FindClusters(means,items);\n",
    "    clustersIndex = FindClustersIndex(means, items);\n",
    "    PrintTeams(clustersIndex);\n",
    "    # print(clustersIndex)\n",
    "    \n",
    "    PlotClusters(clusters);"
   ]
  },
  {
   "source": [
    "### Calling the main function"
   ],
   "cell_type": "markdown",
   "metadata": {}
  },
  {
   "cell_type": "code",
   "execution_count": 656,
   "metadata": {},
   "outputs": [
    {
     "output_type": "stream",
     "name": "stdout",
     "text": [
      "48 teams created!\nThe indices of the candidates per team are as below: \n[1, 2, 0]\n[10, 3, 4]\n[13, 5, 7]\n[14, 6, 8]\n[16, 9, 11]\n[23, 15, 12]\n[29, 22, 17]\n[36, 30, 18]\n[42, 31, 19]\n[44, 33, 20]\n[45, 35, 21]\n[46, 37, 24]\n[51, 38, 25]\n[53, 39, 26]\n[54, 43, 27]\n[55, 48, 28]\n[56, 49, 32]\n[61, 52, 34]\n[62, 58, 40]\n[64, 59, 41]\n[66, 63, 47]\n[67, 70, 50]\n[75, 71, 57]\n[76, 73, 60]\n[77, 78, 65]\n[79, 80, 68]\n[87, 81, 69]\n[97, 86, 72]\n[99, 91, 74]\n[103, 92, 82]\n[107, 93, 83]\n[109, 94, 84]\n[111, 96, 85]\n[115, 100, 88]\n[117, 101, 89]\n[118, 105, 90]\n[122, 112, 95]\n[123, 113, 98]\n[124, 114, 102]\n[127, 116, 104]\n[132, 120, 106]\n[133, 121, 108]\n[134, 125, 110]\n[135, 129, 119]\n[136, 130, 126]\n[139, 131, 128]\n[143, 138, 137]\n[148, 142, 140]\n48\n49\n52\n"
     ]
    },
    {
     "output_type": "display_data",
     "data": {
      "text/plain": "<Figure size 432x288 with 1 Axes>",
      "image/svg+xml": "<?xml version=\"1.0\" encoding=\"utf-8\" standalone=\"no\"?>\r\n<!DOCTYPE svg PUBLIC \"-//W3C//DTD SVG 1.1//EN\"\r\n  \"http://www.w3.org/Graphics/SVG/1.1/DTD/svg11.dtd\">\r\n<!-- Created with matplotlib (https://matplotlib.org/) -->\r\n<svg height=\"248.518125pt\" version=\"1.1\" viewBox=\"0 0 377.518324 248.518125\" width=\"377.518324pt\" xmlns=\"http://www.w3.org/2000/svg\" xmlns:xlink=\"http://www.w3.org/1999/xlink\">\r\n <defs>\r\n  <style type=\"text/css\">\r\n*{stroke-linecap:butt;stroke-linejoin:round;}\r\n  </style>\r\n </defs>\r\n <g id=\"figure_1\">\r\n  <g id=\"patch_1\">\r\n   <path d=\"M 0 248.518125 \r\nL 377.518324 248.518125 \r\nL 377.518324 0 \r\nL 0 0 \r\nz\r\n\" style=\"fill:none;\"/>\r\n  </g>\r\n  <g id=\"axes_1\">\r\n   <g id=\"patch_2\">\r\n    <path d=\"M 30.103125 224.64 \r\nL 364.903125 224.64 \r\nL 364.903125 7.2 \r\nL 30.103125 7.2 \r\nz\r\n\" style=\"fill:#ffffff;\"/>\r\n   </g>\r\n   <g id=\"matplotlib.axis_1\">\r\n    <g id=\"xtick_1\">\r\n     <g id=\"line2d_1\">\r\n      <defs>\r\n       <path d=\"M 0 0 \r\nL 0 3.5 \r\n\" id=\"m753efdf743\" style=\"stroke:#000000;stroke-width:0.8;\"/>\r\n      </defs>\r\n      <g>\r\n       <use style=\"stroke:#000000;stroke-width:0.8;\" x=\"45.321307\" xlink:href=\"#m753efdf743\" y=\"224.64\"/>\r\n      </g>\r\n     </g>\r\n     <g id=\"text_1\">\r\n      <!-- 2.0 -->\r\n      <defs>\r\n       <path d=\"M 19.1875 8.296875 \r\nL 53.609375 8.296875 \r\nL 53.609375 0 \r\nL 7.328125 0 \r\nL 7.328125 8.296875 \r\nQ 12.9375 14.109375 22.625 23.890625 \r\nQ 32.328125 33.6875 34.8125 36.53125 \r\nQ 39.546875 41.84375 41.421875 45.53125 \r\nQ 43.3125 49.21875 43.3125 52.78125 \r\nQ 43.3125 58.59375 39.234375 62.25 \r\nQ 35.15625 65.921875 28.609375 65.921875 \r\nQ 23.96875 65.921875 18.8125 64.3125 \r\nQ 13.671875 62.703125 7.8125 59.421875 \r\nL 7.8125 69.390625 \r\nQ 13.765625 71.78125 18.9375 73 \r\nQ 24.125 74.21875 28.421875 74.21875 \r\nQ 39.75 74.21875 46.484375 68.546875 \r\nQ 53.21875 62.890625 53.21875 53.421875 \r\nQ 53.21875 48.921875 51.53125 44.890625 \r\nQ 49.859375 40.875 45.40625 35.40625 \r\nQ 44.1875 33.984375 37.640625 27.21875 \r\nQ 31.109375 20.453125 19.1875 8.296875 \r\nz\r\n\" id=\"DejaVuSans-50\"/>\r\n       <path d=\"M 10.6875 12.40625 \r\nL 21 12.40625 \r\nL 21 0 \r\nL 10.6875 0 \r\nz\r\n\" id=\"DejaVuSans-46\"/>\r\n       <path d=\"M 31.78125 66.40625 \r\nQ 24.171875 66.40625 20.328125 58.90625 \r\nQ 16.5 51.421875 16.5 36.375 \r\nQ 16.5 21.390625 20.328125 13.890625 \r\nQ 24.171875 6.390625 31.78125 6.390625 \r\nQ 39.453125 6.390625 43.28125 13.890625 \r\nQ 47.125 21.390625 47.125 36.375 \r\nQ 47.125 51.421875 43.28125 58.90625 \r\nQ 39.453125 66.40625 31.78125 66.40625 \r\nz\r\nM 31.78125 74.21875 \r\nQ 44.046875 74.21875 50.515625 64.515625 \r\nQ 56.984375 54.828125 56.984375 36.375 \r\nQ 56.984375 17.96875 50.515625 8.265625 \r\nQ 44.046875 -1.421875 31.78125 -1.421875 \r\nQ 19.53125 -1.421875 13.0625 8.265625 \r\nQ 6.59375 17.96875 6.59375 36.375 \r\nQ 6.59375 54.828125 13.0625 64.515625 \r\nQ 19.53125 74.21875 31.78125 74.21875 \r\nz\r\n\" id=\"DejaVuSans-48\"/>\r\n      </defs>\r\n      <g transform=\"translate(37.369744 239.238437)scale(0.1 -0.1)\">\r\n       <use xlink:href=\"#DejaVuSans-50\"/>\r\n       <use x=\"63.623047\" xlink:href=\"#DejaVuSans-46\"/>\r\n       <use x=\"95.410156\" xlink:href=\"#DejaVuSans-48\"/>\r\n      </g>\r\n     </g>\r\n    </g>\r\n    <g id=\"xtick_2\">\r\n     <g id=\"line2d_2\">\r\n      <g>\r\n       <use style=\"stroke:#000000;stroke-width:0.8;\" x=\"108.730398\" xlink:href=\"#m753efdf743\" y=\"224.64\"/>\r\n      </g>\r\n     </g>\r\n     <g id=\"text_2\">\r\n      <!-- 2.5 -->\r\n      <defs>\r\n       <path d=\"M 10.796875 72.90625 \r\nL 49.515625 72.90625 \r\nL 49.515625 64.59375 \r\nL 19.828125 64.59375 \r\nL 19.828125 46.734375 \r\nQ 21.96875 47.46875 24.109375 47.828125 \r\nQ 26.265625 48.1875 28.421875 48.1875 \r\nQ 40.625 48.1875 47.75 41.5 \r\nQ 54.890625 34.8125 54.890625 23.390625 \r\nQ 54.890625 11.625 47.5625 5.09375 \r\nQ 40.234375 -1.421875 26.90625 -1.421875 \r\nQ 22.3125 -1.421875 17.546875 -0.640625 \r\nQ 12.796875 0.140625 7.71875 1.703125 \r\nL 7.71875 11.625 \r\nQ 12.109375 9.234375 16.796875 8.0625 \r\nQ 21.484375 6.890625 26.703125 6.890625 \r\nQ 35.15625 6.890625 40.078125 11.328125 \r\nQ 45.015625 15.765625 45.015625 23.390625 \r\nQ 45.015625 31 40.078125 35.4375 \r\nQ 35.15625 39.890625 26.703125 39.890625 \r\nQ 22.75 39.890625 18.8125 39.015625 \r\nQ 14.890625 38.140625 10.796875 36.28125 \r\nz\r\n\" id=\"DejaVuSans-53\"/>\r\n      </defs>\r\n      <g transform=\"translate(100.778835 239.238437)scale(0.1 -0.1)\">\r\n       <use xlink:href=\"#DejaVuSans-50\"/>\r\n       <use x=\"63.623047\" xlink:href=\"#DejaVuSans-46\"/>\r\n       <use x=\"95.410156\" xlink:href=\"#DejaVuSans-53\"/>\r\n      </g>\r\n     </g>\r\n    </g>\r\n    <g id=\"xtick_3\">\r\n     <g id=\"line2d_3\">\r\n      <g>\r\n       <use style=\"stroke:#000000;stroke-width:0.8;\" x=\"172.139489\" xlink:href=\"#m753efdf743\" y=\"224.64\"/>\r\n      </g>\r\n     </g>\r\n     <g id=\"text_3\">\r\n      <!-- 3.0 -->\r\n      <defs>\r\n       <path d=\"M 40.578125 39.3125 \r\nQ 47.65625 37.796875 51.625 33 \r\nQ 55.609375 28.21875 55.609375 21.1875 \r\nQ 55.609375 10.40625 48.1875 4.484375 \r\nQ 40.765625 -1.421875 27.09375 -1.421875 \r\nQ 22.515625 -1.421875 17.65625 -0.515625 \r\nQ 12.796875 0.390625 7.625 2.203125 \r\nL 7.625 11.71875 \r\nQ 11.71875 9.328125 16.59375 8.109375 \r\nQ 21.484375 6.890625 26.8125 6.890625 \r\nQ 36.078125 6.890625 40.9375 10.546875 \r\nQ 45.796875 14.203125 45.796875 21.1875 \r\nQ 45.796875 27.640625 41.28125 31.265625 \r\nQ 36.765625 34.90625 28.71875 34.90625 \r\nL 20.21875 34.90625 \r\nL 20.21875 43.015625 \r\nL 29.109375 43.015625 \r\nQ 36.375 43.015625 40.234375 45.921875 \r\nQ 44.09375 48.828125 44.09375 54.296875 \r\nQ 44.09375 59.90625 40.109375 62.90625 \r\nQ 36.140625 65.921875 28.71875 65.921875 \r\nQ 24.65625 65.921875 20.015625 65.03125 \r\nQ 15.375 64.15625 9.8125 62.3125 \r\nL 9.8125 71.09375 \r\nQ 15.4375 72.65625 20.34375 73.4375 \r\nQ 25.25 74.21875 29.59375 74.21875 \r\nQ 40.828125 74.21875 47.359375 69.109375 \r\nQ 53.90625 64.015625 53.90625 55.328125 \r\nQ 53.90625 49.265625 50.4375 45.09375 \r\nQ 46.96875 40.921875 40.578125 39.3125 \r\nz\r\n\" id=\"DejaVuSans-51\"/>\r\n      </defs>\r\n      <g transform=\"translate(164.187926 239.238437)scale(0.1 -0.1)\">\r\n       <use xlink:href=\"#DejaVuSans-51\"/>\r\n       <use x=\"63.623047\" xlink:href=\"#DejaVuSans-46\"/>\r\n       <use x=\"95.410156\" xlink:href=\"#DejaVuSans-48\"/>\r\n      </g>\r\n     </g>\r\n    </g>\r\n    <g id=\"xtick_4\">\r\n     <g id=\"line2d_4\">\r\n      <g>\r\n       <use style=\"stroke:#000000;stroke-width:0.8;\" x=\"235.54858\" xlink:href=\"#m753efdf743\" y=\"224.64\"/>\r\n      </g>\r\n     </g>\r\n     <g id=\"text_4\">\r\n      <!-- 3.5 -->\r\n      <g transform=\"translate(227.597017 239.238437)scale(0.1 -0.1)\">\r\n       <use xlink:href=\"#DejaVuSans-51\"/>\r\n       <use x=\"63.623047\" xlink:href=\"#DejaVuSans-46\"/>\r\n       <use x=\"95.410156\" xlink:href=\"#DejaVuSans-53\"/>\r\n      </g>\r\n     </g>\r\n    </g>\r\n    <g id=\"xtick_5\">\r\n     <g id=\"line2d_5\">\r\n      <g>\r\n       <use style=\"stroke:#000000;stroke-width:0.8;\" x=\"298.95767\" xlink:href=\"#m753efdf743\" y=\"224.64\"/>\r\n      </g>\r\n     </g>\r\n     <g id=\"text_5\">\r\n      <!-- 4.0 -->\r\n      <defs>\r\n       <path d=\"M 37.796875 64.3125 \r\nL 12.890625 25.390625 \r\nL 37.796875 25.390625 \r\nz\r\nM 35.203125 72.90625 \r\nL 47.609375 72.90625 \r\nL 47.609375 25.390625 \r\nL 58.015625 25.390625 \r\nL 58.015625 17.1875 \r\nL 47.609375 17.1875 \r\nL 47.609375 0 \r\nL 37.796875 0 \r\nL 37.796875 17.1875 \r\nL 4.890625 17.1875 \r\nL 4.890625 26.703125 \r\nz\r\n\" id=\"DejaVuSans-52\"/>\r\n      </defs>\r\n      <g transform=\"translate(291.006108 239.238437)scale(0.1 -0.1)\">\r\n       <use xlink:href=\"#DejaVuSans-52\"/>\r\n       <use x=\"63.623047\" xlink:href=\"#DejaVuSans-46\"/>\r\n       <use x=\"95.410156\" xlink:href=\"#DejaVuSans-48\"/>\r\n      </g>\r\n     </g>\r\n    </g>\r\n    <g id=\"xtick_6\">\r\n     <g id=\"line2d_6\">\r\n      <g>\r\n       <use style=\"stroke:#000000;stroke-width:0.8;\" x=\"362.366761\" xlink:href=\"#m753efdf743\" y=\"224.64\"/>\r\n      </g>\r\n     </g>\r\n     <g id=\"text_6\">\r\n      <!-- 4.5 -->\r\n      <g transform=\"translate(354.415199 239.238437)scale(0.1 -0.1)\">\r\n       <use xlink:href=\"#DejaVuSans-52\"/>\r\n       <use x=\"63.623047\" xlink:href=\"#DejaVuSans-46\"/>\r\n       <use x=\"95.410156\" xlink:href=\"#DejaVuSans-53\"/>\r\n      </g>\r\n     </g>\r\n    </g>\r\n   </g>\r\n   <g id=\"matplotlib.axis_2\">\r\n    <g id=\"ytick_1\">\r\n     <g id=\"line2d_7\">\r\n      <defs>\r\n       <path d=\"M 0 0 \r\nL -3.5 0 \r\n\" id=\"mb32703449b\" style=\"stroke:#000000;stroke-width:0.8;\"/>\r\n      </defs>\r\n      <g>\r\n       <use style=\"stroke:#000000;stroke-width:0.8;\" x=\"30.103125\" xlink:href=\"#mb32703449b\" y=\"222.992727\"/>\r\n      </g>\r\n     </g>\r\n     <g id=\"text_7\">\r\n      <!-- 0.0 -->\r\n      <g transform=\"translate(7.2 226.791946)scale(0.1 -0.1)\">\r\n       <use xlink:href=\"#DejaVuSans-48\"/>\r\n       <use x=\"63.623047\" xlink:href=\"#DejaVuSans-46\"/>\r\n       <use x=\"95.410156\" xlink:href=\"#DejaVuSans-48\"/>\r\n      </g>\r\n     </g>\r\n    </g>\r\n    <g id=\"ytick_2\">\r\n     <g id=\"line2d_8\">\r\n      <g>\r\n       <use style=\"stroke:#000000;stroke-width:0.8;\" x=\"30.103125\" xlink:href=\"#mb32703449b\" y=\"181.810909\"/>\r\n      </g>\r\n     </g>\r\n     <g id=\"text_8\">\r\n      <!-- 0.5 -->\r\n      <g transform=\"translate(7.2 185.610128)scale(0.1 -0.1)\">\r\n       <use xlink:href=\"#DejaVuSans-48\"/>\r\n       <use x=\"63.623047\" xlink:href=\"#DejaVuSans-46\"/>\r\n       <use x=\"95.410156\" xlink:href=\"#DejaVuSans-53\"/>\r\n      </g>\r\n     </g>\r\n    </g>\r\n    <g id=\"ytick_3\">\r\n     <g id=\"line2d_9\">\r\n      <g>\r\n       <use style=\"stroke:#000000;stroke-width:0.8;\" x=\"30.103125\" xlink:href=\"#mb32703449b\" y=\"140.629091\"/>\r\n      </g>\r\n     </g>\r\n     <g id=\"text_9\">\r\n      <!-- 1.0 -->\r\n      <defs>\r\n       <path d=\"M 12.40625 8.296875 \r\nL 28.515625 8.296875 \r\nL 28.515625 63.921875 \r\nL 10.984375 60.40625 \r\nL 10.984375 69.390625 \r\nL 28.421875 72.90625 \r\nL 38.28125 72.90625 \r\nL 38.28125 8.296875 \r\nL 54.390625 8.296875 \r\nL 54.390625 0 \r\nL 12.40625 0 \r\nz\r\n\" id=\"DejaVuSans-49\"/>\r\n      </defs>\r\n      <g transform=\"translate(7.2 144.42831)scale(0.1 -0.1)\">\r\n       <use xlink:href=\"#DejaVuSans-49\"/>\r\n       <use x=\"63.623047\" xlink:href=\"#DejaVuSans-46\"/>\r\n       <use x=\"95.410156\" xlink:href=\"#DejaVuSans-48\"/>\r\n      </g>\r\n     </g>\r\n    </g>\r\n    <g id=\"ytick_4\">\r\n     <g id=\"line2d_10\">\r\n      <g>\r\n       <use style=\"stroke:#000000;stroke-width:0.8;\" x=\"30.103125\" xlink:href=\"#mb32703449b\" y=\"99.447273\"/>\r\n      </g>\r\n     </g>\r\n     <g id=\"text_10\">\r\n      <!-- 1.5 -->\r\n      <g transform=\"translate(7.2 103.246491)scale(0.1 -0.1)\">\r\n       <use xlink:href=\"#DejaVuSans-49\"/>\r\n       <use x=\"63.623047\" xlink:href=\"#DejaVuSans-46\"/>\r\n       <use x=\"95.410156\" xlink:href=\"#DejaVuSans-53\"/>\r\n      </g>\r\n     </g>\r\n    </g>\r\n    <g id=\"ytick_5\">\r\n     <g id=\"line2d_11\">\r\n      <g>\r\n       <use style=\"stroke:#000000;stroke-width:0.8;\" x=\"30.103125\" xlink:href=\"#mb32703449b\" y=\"58.265455\"/>\r\n      </g>\r\n     </g>\r\n     <g id=\"text_11\">\r\n      <!-- 2.0 -->\r\n      <g transform=\"translate(7.2 62.064673)scale(0.1 -0.1)\">\r\n       <use xlink:href=\"#DejaVuSans-50\"/>\r\n       <use x=\"63.623047\" xlink:href=\"#DejaVuSans-46\"/>\r\n       <use x=\"95.410156\" xlink:href=\"#DejaVuSans-48\"/>\r\n      </g>\r\n     </g>\r\n    </g>\r\n    <g id=\"ytick_6\">\r\n     <g id=\"line2d_12\">\r\n      <g>\r\n       <use style=\"stroke:#000000;stroke-width:0.8;\" x=\"30.103125\" xlink:href=\"#mb32703449b\" y=\"17.083636\"/>\r\n      </g>\r\n     </g>\r\n     <g id=\"text_12\">\r\n      <!-- 2.5 -->\r\n      <g transform=\"translate(7.2 20.882855)scale(0.1 -0.1)\">\r\n       <use xlink:href=\"#DejaVuSans-50\"/>\r\n       <use x=\"63.623047\" xlink:href=\"#DejaVuSans-46\"/>\r\n       <use x=\"95.410156\" xlink:href=\"#DejaVuSans-53\"/>\r\n      </g>\r\n     </g>\r\n    </g>\r\n   </g>\r\n   <g id=\"line2d_13\">\r\n    <defs>\r\n     <path d=\"M 0 3 \r\nC 0.795609 3 1.55874 2.683901 2.12132 2.12132 \r\nC 2.683901 1.55874 3 0.795609 3 0 \r\nC 3 -0.795609 2.683901 -1.55874 2.12132 -2.12132 \r\nC 1.55874 -2.683901 0.795609 -3 0 -3 \r\nC -0.795609 -3 -1.55874 -2.683901 -2.12132 -2.12132 \r\nC -2.683901 -1.55874 -3 -0.795609 -3 0 \r\nC -3 0.795609 -2.683901 1.55874 -2.12132 2.12132 \r\nC -1.55874 2.683901 -0.795609 3 0 3 \r\nz\r\n\" id=\"m48b543921a\" style=\"stroke:#bfbf00;\"/>\r\n    </defs>\r\n    <g clip-path=\"url(#p273ea2d377)\">\r\n     <use style=\"fill:#bfbf00;stroke:#bfbf00;\" x=\"197.503125\" xlink:href=\"#m48b543921a\" y=\"74.738182\"/>\r\n     <use style=\"fill:#bfbf00;stroke:#bfbf00;\" x=\"222.866761\" xlink:href=\"#m48b543921a\" y=\"91.210909\"/>\r\n     <use style=\"fill:#bfbf00;stroke:#bfbf00;\" x=\"134.094034\" xlink:href=\"#m48b543921a\" y=\"66.501818\"/>\r\n     <use style=\"fill:#bfbf00;stroke:#bfbf00;\" x=\"210.184943\" xlink:href=\"#m48b543921a\" y=\"50.029091\"/>\r\n     <use style=\"fill:#bfbf00;stroke:#bfbf00;\" x=\"146.775852\" xlink:href=\"#m48b543921a\" y=\"25.32\"/>\r\n     <use style=\"fill:#bfbf00;stroke:#bfbf00;\" x=\"134.094034\" xlink:href=\"#m48b543921a\" y=\"66.501818\"/>\r\n     <use style=\"fill:#bfbf00;stroke:#bfbf00;\" x=\"210.184943\" xlink:href=\"#m48b543921a\" y=\"91.210909\"/>\r\n     <use style=\"fill:#bfbf00;stroke:#bfbf00;\" x=\"172.139489\" xlink:href=\"#m48b543921a\" y=\"33.556364\"/>\r\n     <use style=\"fill:#bfbf00;stroke:#bfbf00;\" x=\"159.45767\" xlink:href=\"#m48b543921a\" y=\"74.738182\"/>\r\n     <use style=\"fill:#bfbf00;stroke:#bfbf00;\" x=\"159.45767\" xlink:href=\"#m48b543921a\" y=\"74.738182\"/>\r\n     <use style=\"fill:#bfbf00;stroke:#bfbf00;\" x=\"222.866761\" xlink:href=\"#m48b543921a\" y=\"25.32\"/>\r\n     <use style=\"fill:#bfbf00;stroke:#bfbf00;\" x=\"184.821307\" xlink:href=\"#m48b543921a\" y=\"50.029091\"/>\r\n     <use style=\"fill:#bfbf00;stroke:#bfbf00;\" x=\"197.503125\" xlink:href=\"#m48b543921a\" y=\"58.265455\"/>\r\n     <use style=\"fill:#bfbf00;stroke:#bfbf00;\" x=\"184.821307\" xlink:href=\"#m48b543921a\" y=\"33.556364\"/>\r\n     <use style=\"fill:#bfbf00;stroke:#bfbf00;\" x=\"172.139489\" xlink:href=\"#m48b543921a\" y=\"41.792727\"/>\r\n     <use style=\"fill:#bfbf00;stroke:#bfbf00;\" x=\"146.775852\" xlink:href=\"#m48b543921a\" y=\"41.792727\"/>\r\n     <use style=\"fill:#bfbf00;stroke:#bfbf00;\" x=\"210.184943\" xlink:href=\"#m48b543921a\" y=\"17.083636\"/>\r\n     <use style=\"fill:#bfbf00;stroke:#bfbf00;\" x=\"134.094034\" xlink:href=\"#m48b543921a\" y=\"66.501818\"/>\r\n     <use style=\"fill:#bfbf00;stroke:#bfbf00;\" x=\"172.139489\" xlink:href=\"#m48b543921a\" y=\"74.738182\"/>\r\n     <use style=\"fill:#bfbf00;stroke:#bfbf00;\" x=\"172.139489\" xlink:href=\"#m48b543921a\" y=\"82.974545\"/>\r\n     <use style=\"fill:#bfbf00;stroke:#bfbf00;\" x=\"146.775852\" xlink:href=\"#m48b543921a\" y=\"66.501818\"/>\r\n     <use style=\"fill:#bfbf00;stroke:#bfbf00;\" x=\"172.139489\" xlink:href=\"#m48b543921a\" y=\"58.265455\"/>\r\n     <use style=\"fill:#bfbf00;stroke:#bfbf00;\" x=\"146.775852\" xlink:href=\"#m48b543921a\" y=\"58.265455\"/>\r\n     <use style=\"fill:#bfbf00;stroke:#bfbf00;\" x=\"197.503125\" xlink:href=\"#m48b543921a\" y=\"33.556364\"/>\r\n     <use style=\"fill:#bfbf00;stroke:#bfbf00;\" x=\"172.139489\" xlink:href=\"#m48b543921a\" y=\"33.556364\"/>\r\n     <use style=\"fill:#bfbf00;stroke:#bfbf00;\" x=\"172.139489\" xlink:href=\"#m48b543921a\" y=\"50.029091\"/>\r\n     <use style=\"fill:#bfbf00;stroke:#bfbf00;\" x=\"146.775852\" xlink:href=\"#m48b543921a\" y=\"74.738182\"/>\r\n     <use style=\"fill:#bfbf00;stroke:#bfbf00;\" x=\"184.821307\" xlink:href=\"#m48b543921a\" y=\"74.738182\"/>\r\n     <use style=\"fill:#bfbf00;stroke:#bfbf00;\" x=\"248.230398\" xlink:href=\"#m48b543921a\" y=\"17.083636\"/>\r\n     <use style=\"fill:#bfbf00;stroke:#bfbf00;\" x=\"172.139489\" xlink:href=\"#m48b543921a\" y=\"50.029091\"/>\r\n     <use style=\"fill:#bfbf00;stroke:#bfbf00;\" x=\"108.730398\" xlink:href=\"#m48b543921a\" y=\"66.501818\"/>\r\n     <use style=\"fill:#bfbf00;stroke:#bfbf00;\" x=\"172.139489\" xlink:href=\"#m48b543921a\" y=\"74.738182\"/>\r\n     <use style=\"fill:#bfbf00;stroke:#bfbf00;\" x=\"273.594034\" xlink:href=\"#m48b543921a\" y=\"58.265455\"/>\r\n     <use style=\"fill:#bfbf00;stroke:#bfbf00;\" x=\"197.503125\" xlink:href=\"#m48b543921a\" y=\"33.556364\"/>\r\n     <use style=\"fill:#bfbf00;stroke:#bfbf00;\" x=\"134.094034\" xlink:href=\"#m48b543921a\" y=\"74.738182\"/>\r\n     <use style=\"fill:#bfbf00;stroke:#bfbf00;\" x=\"184.821307\" xlink:href=\"#m48b543921a\" y=\"25.32\"/>\r\n     <use style=\"fill:#bfbf00;stroke:#bfbf00;\" x=\"197.503125\" xlink:href=\"#m48b543921a\" y=\"74.738182\"/>\r\n     <use style=\"fill:#bfbf00;stroke:#bfbf00;\" x=\"146.775852\" xlink:href=\"#m48b543921a\" y=\"58.265455\"/>\r\n     <use style=\"fill:#bfbf00;stroke:#bfbf00;\" x=\"197.503125\" xlink:href=\"#m48b543921a\" y=\"33.556364\"/>\r\n     <use style=\"fill:#bfbf00;stroke:#bfbf00;\" x=\"172.139489\" xlink:href=\"#m48b543921a\" y=\"74.738182\"/>\r\n     <use style=\"fill:#bfbf00;stroke:#bfbf00;\" x=\"108.730398\" xlink:href=\"#m48b543921a\" y=\"58.265455\"/>\r\n     <use style=\"fill:#bfbf00;stroke:#bfbf00;\" x=\"121.412216\" xlink:href=\"#m48b543921a\" y=\"33.556364\"/>\r\n     <use style=\"fill:#bfbf00;stroke:#bfbf00;\" x=\"146.775852\" xlink:href=\"#m48b543921a\" y=\"50.029091\"/>\r\n     <use style=\"fill:#bfbf00;stroke:#bfbf00;\" x=\"222.866761\" xlink:href=\"#m48b543921a\" y=\"33.556364\"/>\r\n     <use style=\"fill:#bfbf00;stroke:#bfbf00;\" x=\"172.139489\" xlink:href=\"#m48b543921a\" y=\"74.738182\"/>\r\n     <use style=\"fill:#bfbf00;stroke:#bfbf00;\" x=\"172.139489\" xlink:href=\"#m48b543921a\" y=\"50.029091\"/>\r\n     <use style=\"fill:#bfbf00;stroke:#bfbf00;\" x=\"210.184943\" xlink:href=\"#m48b543921a\" y=\"17.083636\"/>\r\n     <use style=\"fill:#bfbf00;stroke:#bfbf00;\" x=\"273.594034\" xlink:href=\"#m48b543921a\" y=\"41.792727\"/>\r\n    </g>\r\n   </g>\r\n   <g id=\"line2d_14\">\r\n    <defs>\r\n     <path d=\"M 0 3 \r\nC 0.795609 3 1.55874 2.683901 2.12132 2.12132 \r\nC 2.683901 1.55874 3 0.795609 3 0 \r\nC 3 -0.795609 2.683901 -1.55874 2.12132 -2.12132 \r\nC 1.55874 -2.683901 0.795609 -3 0 -3 \r\nC -0.795609 -3 -1.55874 -2.683901 -2.12132 -2.12132 \r\nC -2.683901 -1.55874 -3 -0.795609 -3 0 \r\nC -3 0.795609 -2.683901 1.55874 -2.12132 2.12132 \r\nC -1.55874 2.683901 -0.795609 3 0 3 \r\nz\r\n\" id=\"mca997227ea\" style=\"stroke:#008000;\"/>\r\n    </defs>\r\n    <g clip-path=\"url(#p273ea2d377)\">\r\n     <use style=\"fill:#008000;stroke:#008000;\" x=\"248.230398\" xlink:href=\"#mca997227ea\" y=\"206.52\"/>\r\n     <use style=\"fill:#008000;stroke:#008000;\" x=\"222.866761\" xlink:href=\"#mca997227ea\" y=\"206.52\"/>\r\n     <use style=\"fill:#008000;stroke:#008000;\" x=\"172.139489\" xlink:href=\"#mca997227ea\" y=\"214.756364\"/>\r\n     <use style=\"fill:#008000;stroke:#008000;\" x=\"222.866761\" xlink:href=\"#mca997227ea\" y=\"206.52\"/>\r\n     <use style=\"fill:#008000;stroke:#008000;\" x=\"184.821307\" xlink:href=\"#mca997227ea\" y=\"214.756364\"/>\r\n     <use style=\"fill:#008000;stroke:#008000;\" x=\"222.866761\" xlink:href=\"#mca997227ea\" y=\"198.283636\"/>\r\n     <use style=\"fill:#008000;stroke:#008000;\" x=\"311.639489\" xlink:href=\"#mca997227ea\" y=\"214.756364\"/>\r\n     <use style=\"fill:#008000;stroke:#008000;\" x=\"235.54858\" xlink:href=\"#mca997227ea\" y=\"198.283636\"/>\r\n     <use style=\"fill:#008000;stroke:#008000;\" x=\"184.821307\" xlink:href=\"#mca997227ea\" y=\"214.756364\"/>\r\n     <use style=\"fill:#008000;stroke:#008000;\" x=\"349.684943\" xlink:href=\"#mca997227ea\" y=\"190.047273\"/>\r\n     <use style=\"fill:#008000;stroke:#008000;\" x=\"159.45767\" xlink:href=\"#mca997227ea\" y=\"206.52\"/>\r\n     <use style=\"fill:#008000;stroke:#008000;\" x=\"210.184943\" xlink:href=\"#mca997227ea\" y=\"206.52\"/>\r\n     <use style=\"fill:#008000;stroke:#008000;\" x=\"235.54858\" xlink:href=\"#mca997227ea\" y=\"198.283636\"/>\r\n     <use style=\"fill:#008000;stroke:#008000;\" x=\"172.139489\" xlink:href=\"#mca997227ea\" y=\"206.52\"/>\r\n     <use style=\"fill:#008000;stroke:#008000;\" x=\"235.54858\" xlink:href=\"#mca997227ea\" y=\"173.574545\"/>\r\n     <use style=\"fill:#008000;stroke:#008000;\" x=\"172.139489\" xlink:href=\"#mca997227ea\" y=\"206.52\"/>\r\n     <use style=\"fill:#008000;stroke:#008000;\" x=\"222.866761\" xlink:href=\"#mca997227ea\" y=\"190.047273\"/>\r\n     <use style=\"fill:#008000;stroke:#008000;\" x=\"172.139489\" xlink:href=\"#mca997227ea\" y=\"206.52\"/>\r\n     <use style=\"fill:#008000;stroke:#008000;\" x=\"222.866761\" xlink:href=\"#mca997227ea\" y=\"206.52\"/>\r\n     <use style=\"fill:#008000;stroke:#008000;\" x=\"222.866761\" xlink:href=\"#mca997227ea\" y=\"206.52\"/>\r\n     <use style=\"fill:#008000;stroke:#008000;\" x=\"222.866761\" xlink:href=\"#mca997227ea\" y=\"190.047273\"/>\r\n     <use style=\"fill:#008000;stroke:#008000;\" x=\"260.912216\" xlink:href=\"#mca997227ea\" y=\"190.047273\"/>\r\n     <use style=\"fill:#008000;stroke:#008000;\" x=\"248.230398\" xlink:href=\"#mca997227ea\" y=\"206.52\"/>\r\n     <use style=\"fill:#008000;stroke:#008000;\" x=\"184.821307\" xlink:href=\"#mca997227ea\" y=\"206.52\"/>\r\n     <use style=\"fill:#008000;stroke:#008000;\" x=\"197.503125\" xlink:href=\"#mca997227ea\" y=\"206.52\"/>\r\n     <use style=\"fill:#008000;stroke:#008000;\" x=\"273.594034\" xlink:href=\"#mca997227ea\" y=\"206.52\"/>\r\n     <use style=\"fill:#008000;stroke:#008000;\" x=\"172.139489\" xlink:href=\"#mca997227ea\" y=\"198.283636\"/>\r\n     <use style=\"fill:#008000;stroke:#008000;\" x=\"286.275852\" xlink:href=\"#mca997227ea\" y=\"190.047273\"/>\r\n     <use style=\"fill:#008000;stroke:#008000;\" x=\"273.594034\" xlink:href=\"#mca997227ea\" y=\"198.283636\"/>\r\n     <use style=\"fill:#008000;stroke:#008000;\" x=\"222.866761\" xlink:href=\"#mca997227ea\" y=\"206.52\"/>\r\n     <use style=\"fill:#008000;stroke:#008000;\" x=\"197.503125\" xlink:href=\"#mca997227ea\" y=\"206.52\"/>\r\n     <use style=\"fill:#008000;stroke:#008000;\" x=\"235.54858\" xlink:href=\"#mca997227ea\" y=\"206.52\"/>\r\n     <use style=\"fill:#008000;stroke:#008000;\" x=\"235.54858\" xlink:href=\"#mca997227ea\" y=\"206.52\"/>\r\n     <use style=\"fill:#008000;stroke:#008000;\" x=\"286.275852\" xlink:href=\"#mca997227ea\" y=\"190.047273\"/>\r\n     <use style=\"fill:#008000;stroke:#008000;\" x=\"273.594034\" xlink:href=\"#mca997227ea\" y=\"190.047273\"/>\r\n     <use style=\"fill:#008000;stroke:#008000;\" x=\"260.912216\" xlink:href=\"#mca997227ea\" y=\"206.52\"/>\r\n     <use style=\"fill:#008000;stroke:#008000;\" x=\"184.821307\" xlink:href=\"#mca997227ea\" y=\"214.756364\"/>\r\n     <use style=\"fill:#008000;stroke:#008000;\" x=\"172.139489\" xlink:href=\"#mca997227ea\" y=\"214.756364\"/>\r\n     <use style=\"fill:#008000;stroke:#008000;\" x=\"197.503125\" xlink:href=\"#mca997227ea\" y=\"206.52\"/>\r\n     <use style=\"fill:#008000;stroke:#008000;\" x=\"197.503125\" xlink:href=\"#mca997227ea\" y=\"206.52\"/>\r\n     <use style=\"fill:#008000;stroke:#008000;\" x=\"222.866761\" xlink:href=\"#mca997227ea\" y=\"206.52\"/>\r\n     <use style=\"fill:#008000;stroke:#008000;\" x=\"83.366761\" xlink:href=\"#mca997227ea\" y=\"198.283636\"/>\r\n     <use style=\"fill:#008000;stroke:#008000;\" x=\"184.821307\" xlink:href=\"#mca997227ea\" y=\"206.52\"/>\r\n     <use style=\"fill:#008000;stroke:#008000;\" x=\"197.503125\" xlink:href=\"#mca997227ea\" y=\"206.52\"/>\r\n     <use style=\"fill:#008000;stroke:#008000;\" x=\"260.912216\" xlink:href=\"#mca997227ea\" y=\"206.52\"/>\r\n     <use style=\"fill:#008000;stroke:#008000;\" x=\"273.594034\" xlink:href=\"#mca997227ea\" y=\"198.283636\"/>\r\n     <use style=\"fill:#008000;stroke:#008000;\" x=\"298.95767\" xlink:href=\"#mca997227ea\" y=\"206.52\"/>\r\n     <use style=\"fill:#008000;stroke:#008000;\" x=\"324.321307\" xlink:href=\"#mca997227ea\" y=\"206.52\"/>\r\n     <use style=\"fill:#008000;stroke:#008000;\" x=\"210.184943\" xlink:href=\"#mca997227ea\" y=\"181.810909\"/>\r\n    </g>\r\n   </g>\r\n   <g id=\"line2d_15\">\r\n    <defs>\r\n     <path d=\"M 0 3 \r\nC 0.795609 3 1.55874 2.683901 2.12132 2.12132 \r\nC 2.683901 1.55874 3 0.795609 3 0 \r\nC 3 -0.795609 2.683901 -1.55874 2.12132 -2.12132 \r\nC 1.55874 -2.683901 0.795609 -3 0 -3 \r\nC -0.795609 -3 -1.55874 -2.683901 -2.12132 -2.12132 \r\nC -2.683901 -1.55874 -3 -0.795609 -3 0 \r\nC -3 0.795609 -2.683901 1.55874 -2.12132 2.12132 \r\nC -1.55874 2.683901 -0.795609 3 0 3 \r\nz\r\n\" id=\"m7f388b9d4b\" style=\"stroke:#bf00bf;\"/>\r\n    </defs>\r\n    <g clip-path=\"url(#p273ea2d377)\">\r\n     <use style=\"fill:#bf00bf;stroke:#bf00bf;\" x=\"184.821307\" xlink:href=\"#m7f388b9d4b\" y=\"107.683636\"/>\r\n     <use style=\"fill:#bf00bf;stroke:#bf00bf;\" x=\"134.094034\" xlink:href=\"#m7f388b9d4b\" y=\"115.92\"/>\r\n     <use style=\"fill:#bf00bf;stroke:#bf00bf;\" x=\"108.730398\" xlink:href=\"#m7f388b9d4b\" y=\"82.974545\"/>\r\n     <use style=\"fill:#bf00bf;stroke:#bf00bf;\" x=\"146.775852\" xlink:href=\"#m7f388b9d4b\" y=\"115.92\"/>\r\n     <use style=\"fill:#bf00bf;stroke:#bf00bf;\" x=\"159.45767\" xlink:href=\"#m7f388b9d4b\" y=\"115.92\"/>\r\n     <use style=\"fill:#bf00bf;stroke:#bf00bf;\" x=\"108.730398\" xlink:href=\"#m7f388b9d4b\" y=\"115.92\"/>\r\n     <use style=\"fill:#bf00bf;stroke:#bf00bf;\" x=\"70.684943\" xlink:href=\"#m7f388b9d4b\" y=\"140.629091\"/>\r\n     <use style=\"fill:#bf00bf;stroke:#bf00bf;\" x=\"70.684943\" xlink:href=\"#m7f388b9d4b\" y=\"99.447273\"/>\r\n     <use style=\"fill:#bf00bf;stroke:#bf00bf;\" x=\"134.094034\" xlink:href=\"#m7f388b9d4b\" y=\"91.210909\"/>\r\n     <use style=\"fill:#bf00bf;stroke:#bf00bf;\" x=\"121.412216\" xlink:href=\"#m7f388b9d4b\" y=\"140.629091\"/>\r\n     <use style=\"fill:#bf00bf;stroke:#bf00bf;\" x=\"159.45767\" xlink:href=\"#m7f388b9d4b\" y=\"115.92\"/>\r\n     <use style=\"fill:#bf00bf;stroke:#bf00bf;\" x=\"96.04858\" xlink:href=\"#m7f388b9d4b\" y=\"132.392727\"/>\r\n     <use style=\"fill:#bf00bf;stroke:#bf00bf;\" x=\"121.412216\" xlink:href=\"#m7f388b9d4b\" y=\"124.156364\"/>\r\n     <use style=\"fill:#bf00bf;stroke:#bf00bf;\" x=\"146.775852\" xlink:href=\"#m7f388b9d4b\" y=\"115.92\"/>\r\n     <use style=\"fill:#bf00bf;stroke:#bf00bf;\" x=\"96.04858\" xlink:href=\"#m7f388b9d4b\" y=\"140.629091\"/>\r\n     <use style=\"fill:#bf00bf;stroke:#bf00bf;\" x=\"146.775852\" xlink:href=\"#m7f388b9d4b\" y=\"107.683636\"/>\r\n     <use style=\"fill:#bf00bf;stroke:#bf00bf;\" x=\"83.366761\" xlink:href=\"#m7f388b9d4b\" y=\"115.92\"/>\r\n     <use style=\"fill:#bf00bf;stroke:#bf00bf;\" x=\"83.366761\" xlink:href=\"#m7f388b9d4b\" y=\"115.92\"/>\r\n     <use style=\"fill:#bf00bf;stroke:#bf00bf;\" x=\"159.45767\" xlink:href=\"#m7f388b9d4b\" y=\"115.92\"/>\r\n     <use style=\"fill:#bf00bf;stroke:#bf00bf;\" x=\"108.730398\" xlink:href=\"#m7f388b9d4b\" y=\"99.447273\"/>\r\n     <use style=\"fill:#bf00bf;stroke:#bf00bf;\" x=\"172.139489\" xlink:href=\"#m7f388b9d4b\" y=\"91.210909\"/>\r\n     <use style=\"fill:#bf00bf;stroke:#bf00bf;\" x=\"159.45767\" xlink:href=\"#m7f388b9d4b\" y=\"115.92\"/>\r\n     <use style=\"fill:#bf00bf;stroke:#bf00bf;\" x=\"172.139489\" xlink:href=\"#m7f388b9d4b\" y=\"115.92\"/>\r\n     <use style=\"fill:#bf00bf;stroke:#bf00bf;\" x=\"134.094034\" xlink:href=\"#m7f388b9d4b\" y=\"140.629091\"/>\r\n     <use style=\"fill:#bf00bf;stroke:#bf00bf;\" x=\"159.45767\" xlink:href=\"#m7f388b9d4b\" y=\"107.683636\"/>\r\n     <use style=\"fill:#bf00bf;stroke:#bf00bf;\" x=\"172.139489\" xlink:href=\"#m7f388b9d4b\" y=\"99.447273\"/>\r\n     <use style=\"fill:#bf00bf;stroke:#bf00bf;\" x=\"108.730398\" xlink:href=\"#m7f388b9d4b\" y=\"132.392727\"/>\r\n     <use style=\"fill:#bf00bf;stroke:#bf00bf;\" x=\"121.412216\" xlink:href=\"#m7f388b9d4b\" y=\"107.683636\"/>\r\n     <use style=\"fill:#bf00bf;stroke:#bf00bf;\" x=\"197.503125\" xlink:href=\"#m7f388b9d4b\" y=\"107.683636\"/>\r\n     <use style=\"fill:#bf00bf;stroke:#bf00bf;\" x=\"172.139489\" xlink:href=\"#m7f388b9d4b\" y=\"107.683636\"/>\r\n     <use style=\"fill:#bf00bf;stroke:#bf00bf;\" x=\"121.412216\" xlink:href=\"#m7f388b9d4b\" y=\"124.156364\"/>\r\n     <use style=\"fill:#bf00bf;stroke:#bf00bf;\" x=\"146.775852\" xlink:href=\"#m7f388b9d4b\" y=\"124.156364\"/>\r\n     <use style=\"fill:#bf00bf;stroke:#bf00bf;\" x=\"108.730398\" xlink:href=\"#m7f388b9d4b\" y=\"74.738182\"/>\r\n     <use style=\"fill:#bf00bf;stroke:#bf00bf;\" x=\"172.139489\" xlink:href=\"#m7f388b9d4b\" y=\"107.683636\"/>\r\n     <use style=\"fill:#bf00bf;stroke:#bf00bf;\" x=\"134.094034\" xlink:href=\"#m7f388b9d4b\" y=\"107.683636\"/>\r\n     <use style=\"fill:#bf00bf;stroke:#bf00bf;\" x=\"146.775852\" xlink:href=\"#m7f388b9d4b\" y=\"115.92\"/>\r\n     <use style=\"fill:#bf00bf;stroke:#bf00bf;\" x=\"184.821307\" xlink:href=\"#m7f388b9d4b\" y=\"99.447273\"/>\r\n     <use style=\"fill:#bf00bf;stroke:#bf00bf;\" x=\"172.139489\" xlink:href=\"#m7f388b9d4b\" y=\"124.156364\"/>\r\n     <use style=\"fill:#bf00bf;stroke:#bf00bf;\" x=\"197.503125\" xlink:href=\"#m7f388b9d4b\" y=\"99.447273\"/>\r\n     <use style=\"fill:#bf00bf;stroke:#bf00bf;\" x=\"159.45767\" xlink:href=\"#m7f388b9d4b\" y=\"99.447273\"/>\r\n     <use style=\"fill:#bf00bf;stroke:#bf00bf;\" x=\"146.775852\" xlink:href=\"#m7f388b9d4b\" y=\"99.447273\"/>\r\n     <use style=\"fill:#bf00bf;stroke:#bf00bf;\" x=\"70.684943\" xlink:href=\"#m7f388b9d4b\" y=\"99.447273\"/>\r\n     <use style=\"fill:#bf00bf;stroke:#bf00bf;\" x=\"159.45767\" xlink:href=\"#m7f388b9d4b\" y=\"115.92\"/>\r\n     <use style=\"fill:#bf00bf;stroke:#bf00bf;\" x=\"172.139489\" xlink:href=\"#m7f388b9d4b\" y=\"99.447273\"/>\r\n     <use style=\"fill:#bf00bf;stroke:#bf00bf;\" x=\"96.04858\" xlink:href=\"#m7f388b9d4b\" y=\"140.629091\"/>\r\n     <use style=\"fill:#bf00bf;stroke:#bf00bf;\" x=\"172.139489\" xlink:href=\"#m7f388b9d4b\" y=\"99.447273\"/>\r\n     <use style=\"fill:#bf00bf;stroke:#bf00bf;\" x=\"108.730398\" xlink:href=\"#m7f388b9d4b\" y=\"132.392727\"/>\r\n     <use style=\"fill:#bf00bf;stroke:#bf00bf;\" x=\"146.775852\" xlink:href=\"#m7f388b9d4b\" y=\"99.447273\"/>\r\n     <use style=\"fill:#bf00bf;stroke:#bf00bf;\" x=\"134.094034\" xlink:href=\"#m7f388b9d4b\" y=\"124.156364\"/>\r\n     <use style=\"fill:#bf00bf;stroke:#bf00bf;\" x=\"83.366761\" xlink:href=\"#m7f388b9d4b\" y=\"140.629091\"/>\r\n     <use style=\"fill:#bf00bf;stroke:#bf00bf;\" x=\"184.821307\" xlink:href=\"#m7f388b9d4b\" y=\"99.447273\"/>\r\n     <use style=\"fill:#bf00bf;stroke:#bf00bf;\" x=\"45.321307\" xlink:href=\"#m7f388b9d4b\" y=\"140.629091\"/>\r\n    </g>\r\n   </g>\r\n   <g id=\"patch_3\">\r\n    <path d=\"M 30.103125 224.64 \r\nL 30.103125 7.2 \r\n\" style=\"fill:none;stroke:#000000;stroke-linecap:square;stroke-linejoin:miter;stroke-width:0.8;\"/>\r\n   </g>\r\n   <g id=\"patch_4\">\r\n    <path d=\"M 364.903125 224.64 \r\nL 364.903125 7.2 \r\n\" style=\"fill:none;stroke:#000000;stroke-linecap:square;stroke-linejoin:miter;stroke-width:0.8;\"/>\r\n   </g>\r\n   <g id=\"patch_5\">\r\n    <path d=\"M 30.103125 224.64 \r\nL 364.903125 224.64 \r\n\" style=\"fill:none;stroke:#000000;stroke-linecap:square;stroke-linejoin:miter;stroke-width:0.8;\"/>\r\n   </g>\r\n   <g id=\"patch_6\">\r\n    <path d=\"M 30.103125 7.2 \r\nL 364.903125 7.2 \r\n\" style=\"fill:none;stroke:#000000;stroke-linecap:square;stroke-linejoin:miter;stroke-width:0.8;\"/>\r\n   </g>\r\n  </g>\r\n </g>\r\n <defs>\r\n  <clipPath id=\"p273ea2d377\">\r\n   <rect height=\"217.44\" width=\"334.8\" x=\"30.103125\" y=\"7.2\"/>\r\n  </clipPath>\r\n </defs>\r\n</svg>\r\n",
      "image/png": "[encoded data removed]"
     },
     "metadata": {
      "needs_background": "light"
     }
    }
   ],
   "source": [
    "main();"
   ]
  },
  {
   "cell_type": "code",
   "execution_count": null,
   "metadata": {},
   "outputs": [],
   "source": []
  }
 ]
}